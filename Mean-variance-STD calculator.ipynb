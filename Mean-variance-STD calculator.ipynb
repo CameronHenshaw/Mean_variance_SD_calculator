{
 "cells": [
  {
   "cell_type": "markdown",
   "metadata": {},
   "source": [
    "# Mean, Variance, Standard Deviation Calculator\n",
    "\n",
    "This is a project for a certification on Freecodecamp.org. Check out the readme to see the exact project specifications."
   ]
  },
  {
   "cell_type": "code",
   "execution_count": 1,
   "metadata": {},
   "outputs": [],
   "source": [
    "import numpy as np\n",
    "\n",
    "def calculate(list):\n",
    "    if len(list) != 9: #loop returns value error is list is not nine numbers long\n",
    "        raise ValueError(\"List must contain nine numbers.\")\n",
    "            \n",
    "    a = np.array(list[0:3])#putting list into arrays\n",
    "    b = np.array(list[3:6])\n",
    "    c = np.array(list[6:])\n",
    "    d = np.array([a, b, c])\n",
    "\n",
    "    #the following block creates a dictionary, turning the output arrays into lists\n",
    "    calculations = {\"mean\" : [d.mean(axis=0).tolist(), d.mean(axis=1).tolist(), d.mean()], \n",
    "    \"variance\" : [d.var(axis=0).tolist(), d.var(axis=1).tolist(), d.var()],\n",
    "    \"standard deviation\" : [d.std(axis=0).tolist(), d.std(axis=1).tolist(), d.std()],\n",
    "    \"max\" : [d.max(axis=0).tolist(), d.max(axis=1).tolist(), d.max()],\n",
    "    \"min\" : [d.min(axis=0).tolist(), d.min(axis=1).tolist(), d.min()],\n",
    "    \"sum\" : [d.sum(axis=0).tolist(), d.sum(axis=1).tolist(), d.sum()]}    \n",
    "\n",
    "\n",
    "\n",
    "\n",
    "    return calculations"
   ]
  },
  {
   "cell_type": "code",
   "execution_count": 2,
   "metadata": {},
   "outputs": [
    {
     "data": {
      "text/plain": [
       "{'mean': [[3.6666666666666665, 5.0, 3.0],\n",
       "  [3.3333333333333335, 4.0, 4.333333333333333],\n",
       "  3.888888888888889],\n",
       " 'variance': [[9.555555555555557, 0.6666666666666666, 8.666666666666666],\n",
       "  [3.555555555555556, 10.666666666666666, 6.222222222222221],\n",
       "  6.987654320987654],\n",
       " 'standard deviation': [[3.091206165165235,\n",
       "   0.816496580927726,\n",
       "   2.943920288775949],\n",
       "  [1.8856180831641267, 3.265986323710904, 2.494438257849294],\n",
       "  2.6434171674156266],\n",
       " 'max': [[8, 6, 7], [6, 8, 7], 8],\n",
       " 'min': [[1, 4, 0], [2, 0, 1], 0],\n",
       " 'sum': [[11, 15, 9], [10, 12, 13], 35]}"
      ]
     },
     "execution_count": 2,
     "metadata": {},
     "output_type": "execute_result"
    }
   ],
   "source": [
    "my_list = [2,6,2,8,4,0,1,5,7]\n",
    "calculate(my_list)"
   ]
  },
  {
   "cell_type": "code",
   "execution_count": 3,
   "metadata": {},
   "outputs": [
    {
     "name": "stdout",
     "output_type": "stream",
     "text": [
      "[[0 1 2]\n",
      " [3 4 5]\n",
      " [6 7 8]]\n",
      "[ 9 12 15]\n",
      "36\n"
     ]
    }
   ],
   "source": [
    "listydo = [0,1,2,3,4,5,6,7,8]\n",
    "\n",
    "a = np.array(listydo[0:3])\n",
    "b = np.array(listydo[3:6])\n",
    "c = np.array(listydo[6:])\n",
    "my_array = np.array([a, b, c])\n",
    "print(my_array)\n",
    "print(my_array.sum(axis=0))\n",
    "print(my_array.sum())"
   ]
  },
  {
   "cell_type": "code",
   "execution_count": null,
   "metadata": {},
   "outputs": [],
   "source": []
  }
 ],
 "metadata": {
  "kernelspec": {
   "display_name": "Python 3",
   "language": "python",
   "name": "python3"
  },
  "language_info": {
   "codemirror_mode": {
    "name": "ipython",
    "version": 3
   },
   "file_extension": ".py",
   "mimetype": "text/x-python",
   "name": "python",
   "nbconvert_exporter": "python",
   "pygments_lexer": "ipython3",
   "version": "3.7.4"
  }
 },
 "nbformat": 4,
 "nbformat_minor": 2
}
